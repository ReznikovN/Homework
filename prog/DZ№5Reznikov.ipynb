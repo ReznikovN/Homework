{
 "cells": [
  {
   "cell_type": "markdown",
   "id": "9a4c5177-4ad3-4204-bd05-c19f924015aa",
   "metadata": {},
   "source": [
    "Резников Никита Вячеславович; ТФэ-01-21; @reznya_tv"
   ]
  },
  {
   "cell_type": "markdown",
   "id": "01583b58-1250-4953-9172-7509e5214e89",
   "metadata": {},
   "source": [
    "Задание №5  \n",
    "Оценить расходы в цилиндр высокого давления и в конденсатор турбины без промежуточного переграва пара."
   ]
  },
  {
   "cell_type": "code",
   "execution_count": 1,
   "id": "5c9280df-728d-499d-b22d-0b2cfa90fb28",
   "metadata": {},
   "outputs": [],
   "source": [
    "import iapws\n",
    "from iapws import IAPWS97 as gas"
   ]
  },
  {
   "cell_type": "code",
   "execution_count": 2,
   "id": "0b92996b-7328-4e74-8cef-df725f247b80",
   "metadata": {},
   "outputs": [],
   "source": [
    "MPa = 10 ** 6\n",
    "kPa = 10 ** 3\n",
    "MBt = 10 ** 6\n",
    "unit = 1 / MPa\n",
    "to_kelvin = lambda x: x + 273.15 if x else None"
   ]
  },
  {
   "cell_type": "code",
   "execution_count": 3,
   "id": "4a0750c8-6d91-491b-989e-deaced818421",
   "metadata": {},
   "outputs": [],
   "source": [
    "electrical_power = 250 * MBt \n",
    "p_0 = 23.5 * MPa \n",
    "t_0 = 540 \n",
    "p_k = 6.9 * kPa \n",
    "z = 7\n",
    "t_feed_water = 263\n",
    "p_feed_water = 1.35 * p_0 \n",
    "t_nas_0 = 374.2\n",
    "mechanical_efficiency = 0.992\n",
    "generator_efficiency = 0.99 \n",
    "internal_efficiency = 0.85 "
   ]
  },
  {
   "cell_type": "code",
   "execution_count": 4,
   "id": "509914f0-9870-46ae-84bd-a0ea46155f75",
   "metadata": {},
   "outputs": [],
   "source": [
    "delta_cvd = 0.05 * p_0 \n",
    "real_p_0 = p_0 - delta_cvd\n",
    "teor_point_0 = gas(P = p_0 * unit, T=to_kelvin(t_0))\n",
    "point_0 = gas(P=real_p_0 * unit, h=teor_point_0.h)\n",
    "point_feed_water = gas(P=p_feed_water * unit, T=to_kelvin(t_feed_water))\n",
    "point_k_kip_water = gas(P=p_k * unit, x=0)\n",
    "teor_point_k = gas(P=p_k * unit, s = teor_point_0.s)\n",
    "heat_drop_i = ( teor_point_0.h - teor_point_k.h) * internal_efficiency\n",
    "h_k = teor_point_0.h - heat_drop_i\n",
    "point_k = gas(P = p_k * unit, h = h_k)"
   ]
  },
  {
   "cell_type": "code",
   "execution_count": 5,
   "id": "9024f1d4-e0fb-4ec6-8785-7c39e0be21ce",
   "metadata": {},
   "outputs": [
    {
     "data": {
      "text/plain": [
       "0.8500000000000002"
      ]
     },
     "execution_count": 5,
     "metadata": {},
     "output_type": "execute_result"
    }
   ],
   "source": [
    "# Расчет относительного КПД ЦВД\n",
    "efficiency_oi = (teor_point_0.h - point_k.h)/(teor_point_0.h - teor_point_k.h)\n",
    "efficiency_oi"
   ]
  },
  {
   "cell_type": "code",
   "execution_count": 6,
   "id": "0b317d5b-16c7-4780-b25c-fbf5941aac44",
   "metadata": {},
   "outputs": [
    {
     "data": {
      "text/plain": [
       "0.14709057780648582"
      ]
     },
     "execution_count": 6,
     "metadata": {},
     "output_type": "execute_result"
    }
   ],
   "source": [
    "numenator_without = point_k.T * (teor_point_0.s - point_k_kip_water.s)\n",
    "denumenator_without = teor_point_0.h - point_k_kip_water.h\n",
    "without_part = 1 - (numenator_without/denumenator_without)\n",
    "numenator_infinity = point_k.T * (teor_point_0.s - point_feed_water.s)\n",
    "denumenator_infinity =  teor_point_0.h - point_feed_water.h\n",
    "infinity_part = 1 - (numenator_infinity / denumenator_infinity)\n",
    "ksi_infinity = 1 - (without_part / infinity_part)\n",
    "ksi_infinity"
   ]
  },
  {
   "cell_type": "code",
   "execution_count": 7,
   "id": "de6a4eb0-310c-4860-8421-0bf43450afcb",
   "metadata": {},
   "outputs": [
    {
     "data": {
      "text/plain": [
       "0.668521593152601"
      ]
     },
     "execution_count": 7,
     "metadata": {},
     "output_type": "execute_result"
    }
   ],
   "source": [
    "koef = (point_feed_water.T - point_k.T) / (to_kelvin(t_nas_0) - point_k.T)\n",
    "koef"
   ]
  },
  {
   "cell_type": "code",
   "execution_count": 8,
   "id": "05fb766a-613e-4b86-846e-ecf1298c21ea",
   "metadata": {},
   "outputs": [
    {
     "data": {
      "text/plain": [
       "0.1264978969135778"
      ]
     },
     "execution_count": 8,
     "metadata": {},
     "output_type": "execute_result"
    }
   ],
   "source": [
    "ksi = 0.86 * ksi_infinity\n",
    "ksi"
   ]
  },
  {
   "cell_type": "code",
   "execution_count": 9,
   "id": "9e478204-c8d0-434d-933d-c005e51725a5",
   "metadata": {},
   "outputs": [
    {
     "data": {
      "text/plain": [
       "(0.4256665812252009, 1195.040745623017, 3162.5947303533876)"
      ]
     },
     "execution_count": 9,
     "metadata": {},
     "output_type": "execute_result"
    }
   ],
   "source": [
    "eff_num = (teor_point_0.h - teor_point_k.h) * internal_efficiency\n",
    "eff_denum =  teor_point_0.h - point_k_kip_water.h\n",
    "efficiency = (eff_num / eff_denum) * (1 + ksi)\n",
    "efficiency,eff_num,eff_denum"
   ]
  },
  {
   "cell_type": "code",
   "execution_count": 10,
   "id": "4b1f5b88-2c82-480c-8878-2a38e77ebc3c",
   "metadata": {},
   "outputs": [
    {
     "data": {
      "text/plain": [
       "926.282537747384"
      ]
     },
     "execution_count": 10,
     "metadata": {},
     "output_type": "execute_result"
    }
   ],
   "source": [
    "estimated_heat_drop = efficiency * (teor_point_0.h - point_feed_water.h)\n",
    "estimated_heat_drop"
   ]
  },
  {
   "cell_type": "code",
   "execution_count": 11,
   "id": "37f5ca62-fe93-48b6-a296-a3222f5e1342",
   "metadata": {},
   "outputs": [
    {
     "data": {
      "text/plain": [
       "274.8208415072751"
      ]
     },
     "execution_count": 11,
     "metadata": {},
     "output_type": "execute_result"
    }
   ],
   "source": [
    "inlet_mass_flow = electrical_power / (estimated_heat_drop * 1000 * mechanical_efficiency * generator_efficiency)\n",
    "inlet_mass_flow"
   ]
  },
  {
   "cell_type": "code",
   "execution_count": 12,
   "id": "fafb1bf7-d2ba-4c30-87de-7e673a27d91d",
   "metadata": {},
   "outputs": [
    {
     "data": {
      "text/plain": [
       "174.56654510053676"
      ]
     },
     "execution_count": 12,
     "metadata": {},
     "output_type": "execute_result"
    }
   ],
   "source": [
    "mass_flow_denum = 1000 * (point_k.h - point_k_kip_water.h) * mechanical_efficiency * generator_efficiency\n",
    "mass_flow_factor = (1/efficiency) - 1\n",
    "condenser_mass_flow = (electrical_power * mass_flow_factor)/mass_flow_denum\n",
    "condenser_mass_flow"
   ]
  },
  {
   "cell_type": "code",
   "execution_count": 13,
   "id": "9a7d191c-436e-49f2-81d6-527de0e3041f",
   "metadata": {},
   "outputs": [
    {
     "name": "stdout",
     "output_type": "stream",
     "text": [
      "Массовый расход в турбину на входе 274.8208415072751\n"
     ]
    }
   ],
   "source": [
    "print(\"Массовый расход в турбину на входе\", inlet_mass_flow)"
   ]
  },
  {
   "cell_type": "code",
   "execution_count": 14,
   "id": "11058bff-9d54-4397-9c21-5276b315292a",
   "metadata": {},
   "outputs": [
    {
     "name": "stdout",
     "output_type": "stream",
     "text": [
      "Массовый расход в конденсатор: 174.56654510053676\n"
     ]
    }
   ],
   "source": [
    "print(\"Массовый расход в конденсатор:\", condenser_mass_flow)"
   ]
  },
  {
   "cell_type": "code",
   "execution_count": null,
   "id": "f60b2924-6b20-4665-a42f-5f2c89c8e7b6",
   "metadata": {},
   "outputs": [],
   "source": []
  },
  {
   "cell_type": "code",
   "execution_count": null,
   "id": "18b60354-30f2-4dad-9fe4-11de906c4fd7",
   "metadata": {},
   "outputs": [],
   "source": []
  }
 ],
 "metadata": {
  "kernelspec": {
   "display_name": "Python 3 (ipykernel)",
   "language": "python",
   "name": "python3"
  },
  "language_info": {
   "codemirror_mode": {
    "name": "ipython",
    "version": 3
   },
   "file_extension": ".py",
   "mimetype": "text/x-python",
   "name": "python",
   "nbconvert_exporter": "python",
   "pygments_lexer": "ipython3",
   "version": "3.11.5"
  }
 },
 "nbformat": 4,
 "nbformat_minor": 5
}
